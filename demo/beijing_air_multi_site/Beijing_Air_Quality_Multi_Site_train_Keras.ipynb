{
 "cells": [
  {
   "cell_type": "markdown",
   "metadata": {},
   "source": [
    "# Example for the Beijing Multi Site Air Quality Dataset\n",
    "\n",
    "https://archive.ics.uci.edu/ml/datasets/Beijing+Multi-Site+Air-Quality+Data"
   ]
  },
  {
   "cell_type": "code",
   "execution_count": 1,
   "metadata": {},
   "outputs": [],
   "source": [
    "import dill\n",
    "\n",
    "import pandas as pd\n",
    "import numpy as np\n",
    "\n",
    "from io import BytesIO\n",
    "from zipfile import ZipFile\n",
    "from urllib.request import urlopen\n",
    "\n",
    "import tensorflow as tf\n",
    "\n",
    "from tensorflow.keras import datasets, layers, models\n",
    "\n",
    "from sklearn.model_selection import train_test_split\n",
    "\n",
    "from matplotlib import pyplot as plt\n",
    "from IPython.display import clear_output"
   ]
  },
  {
   "cell_type": "code",
   "execution_count": 2,
   "metadata": {},
   "outputs": [],
   "source": [
    "class PlotLosses(tf.keras.callbacks.Callback):\n",
    "    def on_train_begin(self, logs={}):\n",
    "        self.i = 0\n",
    "        self.x = []\n",
    "        self.losses = []\n",
    "        self.val_losses = []\n",
    "        \n",
    "        self.fig = plt.figure()\n",
    "        \n",
    "        self.logs = []\n",
    "\n",
    "    def on_epoch_end(self, epoch, logs={}):\n",
    "        \n",
    "        self.logs.append(logs)\n",
    "        self.x.append(self.i)\n",
    "        self.losses.append(logs.get('loss'))\n",
    "        self.val_losses.append(logs.get('val_loss'))\n",
    "        self.i += 1\n",
    "        \n",
    "        clear_output(wait=True)\n",
    "        plt.plot(self.x, self.losses, label='loss')\n",
    "        plt.plot(self.x, self.val_losses, label='val_loss')\n",
    "        plt.legend()\n",
    "        plt.show();\n",
    "        \n",
    "plot_losses = PlotLosses()"
   ]
  },
  {
   "cell_type": "code",
   "execution_count": 3,
   "metadata": {},
   "outputs": [],
   "source": [
    "url = 'https://archive.ics.uci.edu/ml/machine-learning-databases/00501/PRSA2017_Data_20130301-20170228.zip'\n",
    "\n",
    "resp = urlopen(url)"
   ]
  },
  {
   "cell_type": "code",
   "execution_count": 5,
   "metadata": {},
   "outputs": [],
   "source": [
    "zipfile = ZipFile(BytesIO(resp.read()))\n",
    "file_list = zipfile.namelist()"
   ]
  },
  {
   "cell_type": "code",
   "execution_count": null,
   "metadata": {},
   "outputs": [],
   "source": [
    "# zipfile = ZipFile('archive.zip')\n",
    "# file_list = zipfile.namelist()"
   ]
  },
  {
   "cell_type": "code",
   "execution_count": 11,
   "metadata": {},
   "outputs": [
    {
     "data": {
      "text/plain": [
       "['PRSA_Data_20130301-20170228/',\n",
       " 'PRSA_Data_20130301-20170228/PRSA_Data_Aotizhongxin_20130301-20170228.csv',\n",
       " 'PRSA_Data_20130301-20170228/PRSA_Data_Changping_20130301-20170228.csv',\n",
       " 'PRSA_Data_20130301-20170228/PRSA_Data_Dingling_20130301-20170228.csv',\n",
       " 'PRSA_Data_20130301-20170228/PRSA_Data_Dongsi_20130301-20170228.csv',\n",
       " 'PRSA_Data_20130301-20170228/PRSA_Data_Guanyuan_20130301-20170228.csv',\n",
       " 'PRSA_Data_20130301-20170228/PRSA_Data_Gucheng_20130301-20170228.csv',\n",
       " 'PRSA_Data_20130301-20170228/PRSA_Data_Huairou_20130301-20170228.csv',\n",
       " 'PRSA_Data_20130301-20170228/PRSA_Data_Nongzhanguan_20130301-20170228.csv',\n",
       " 'PRSA_Data_20130301-20170228/PRSA_Data_Shunyi_20130301-20170228.csv',\n",
       " 'PRSA_Data_20130301-20170228/PRSA_Data_Tiantan_20130301-20170228.csv',\n",
       " 'PRSA_Data_20130301-20170228/PRSA_Data_Wanliu_20130301-20170228.csv',\n",
       " 'PRSA_Data_20130301-20170228/PRSA_Data_Wanshouxigong_20130301-20170228.csv']"
      ]
     },
     "execution_count": 11,
     "metadata": {},
     "output_type": "execute_result"
    }
   ],
   "source": [
    "file_list"
   ]
  },
  {
   "cell_type": "code",
   "execution_count": 6,
   "metadata": {},
   "outputs": [],
   "source": [
    "def preprocess_data(df, normalize=True, standardize=False):\n",
    "    df_temp = df.copy()\n",
    "    df_temp = df_temp.dropna()\n",
    "    df_temp = df_temp.reset_index()\n",
    "    \n",
    "    df_temp = df_temp.drop(['index', 'No', 'day', 'month', 'year', 'hour', 'PM10'], axis=1)\n",
    "    df_temp['wd'] = df_temp['wd'].astype('category').cat.codes\n",
    "    df_temp['station'] = df_temp['station'].astype('category').cat.codes\n",
    "\n",
    "    min_max_dict = {}\n",
    "    std_mean_dict = {}\n",
    "\n",
    "    if normalize:\n",
    "\n",
    "        for feature_name in df_temp.columns:\n",
    "            max_value = df_temp[feature_name].max()\n",
    "            min_value = df_temp[feature_name].min()\n",
    "\n",
    "            df_temp[feature_name] = (df_temp[feature_name] - min_value) / (max_value - min_value)\n",
    "\n",
    "            min_max_dict[feature_name] = {'max': max_value, 'min': min_value}\n",
    "\n",
    "    elif standardize:\n",
    "\n",
    "        for feature_name in df_temp.columns:\n",
    "            std_value = df_temp[feature_name].std()\n",
    "            mean_value = df_temp[feature_name].mean()\n",
    "\n",
    "            df_temp[feature_name] = (df_temp[feature_name] - mean_value) / std_value\n",
    "\n",
    "            std_mean_dict[feature_name] = {'std': std_value, 'mean': mean_value}\n",
    "            \n",
    "    return df_temp, min_max_dict, std_mean_dict"
   ]
  },
  {
   "cell_type": "code",
   "execution_count": 7,
   "metadata": {},
   "outputs": [],
   "source": [
    "def create_sequences(X, y, split_feature=None, n_steps=24):\n",
    "    dataset_X = []\n",
    "    dataset_y = []\n",
    "    \n",
    "    X_temp = []\n",
    "    if split_feature:\n",
    "        for val in X[split_feature].unique():\n",
    "            X_temp.append(X[:][X[split_feature] == val])\n",
    "    else:\n",
    "        X_temp.append(X)\n",
    "\n",
    "    for x in X_temp:\n",
    "        for i in range(len(x) - (n_steps + 2)):\n",
    "            dataset_X.append(x.iloc[i:i + n_steps].values)\n",
    "            dataset_y.append(y.iloc[i + n_steps + 1])\n",
    "\n",
    "    return np.asarray(dataset_X), np.asarray(dataset_y)"
   ]
  },
  {
   "cell_type": "code",
   "execution_count": 12,
   "metadata": {},
   "outputs": [],
   "source": [
    "df_list = []\n",
    "\n",
    "for file in file_list:\n",
    "    if 'csv' in file:\n",
    "        df = pd.read_csv(zipfile.open(file))\n",
    "        df_list.append(df)\n",
    "    \n",
    "df_temp = preprocess_data(pd.concat(df_list))"
   ]
  },
  {
   "cell_type": "code",
   "execution_count": 13,
   "metadata": {},
   "outputs": [
    {
     "data": {
      "text/html": [
       "<div>\n",
       "<style scoped>\n",
       "    .dataframe tbody tr th:only-of-type {\n",
       "        vertical-align: middle;\n",
       "    }\n",
       "\n",
       "    .dataframe tbody tr th {\n",
       "        vertical-align: top;\n",
       "    }\n",
       "\n",
       "    .dataframe thead th {\n",
       "        text-align: right;\n",
       "    }\n",
       "</style>\n",
       "<table border=\"1\" class=\"dataframe\">\n",
       "  <thead>\n",
       "    <tr style=\"text-align: right;\">\n",
       "      <th></th>\n",
       "      <th>PM2.5</th>\n",
       "      <th>SO2</th>\n",
       "      <th>NO2</th>\n",
       "      <th>CO</th>\n",
       "      <th>O3</th>\n",
       "      <th>TEMP</th>\n",
       "      <th>PRES</th>\n",
       "      <th>DEWP</th>\n",
       "      <th>RAIN</th>\n",
       "      <th>wd</th>\n",
       "      <th>WSPM</th>\n",
       "      <th>station</th>\n",
       "    </tr>\n",
       "  </thead>\n",
       "  <tbody>\n",
       "    <tr>\n",
       "      <th>0</th>\n",
       "      <td>0.002375</td>\n",
       "      <td>0.007433</td>\n",
       "      <td>0.017361</td>\n",
       "      <td>0.020202</td>\n",
       "      <td>0.071710</td>\n",
       "      <td>0.312195</td>\n",
       "      <td>0.672185</td>\n",
       "      <td>0.264209</td>\n",
       "      <td>0.0</td>\n",
       "      <td>0.400000</td>\n",
       "      <td>0.333333</td>\n",
       "      <td>0.0</td>\n",
       "    </tr>\n",
       "    <tr>\n",
       "      <th>1</th>\n",
       "      <td>0.007126</td>\n",
       "      <td>0.007433</td>\n",
       "      <td>0.017361</td>\n",
       "      <td>0.020202</td>\n",
       "      <td>0.071710</td>\n",
       "      <td>0.305691</td>\n",
       "      <td>0.675497</td>\n",
       "      <td>0.273425</td>\n",
       "      <td>0.0</td>\n",
       "      <td>0.200000</td>\n",
       "      <td>0.356061</td>\n",
       "      <td>0.0</td>\n",
       "    </tr>\n",
       "    <tr>\n",
       "      <th>2</th>\n",
       "      <td>0.005938</td>\n",
       "      <td>0.009434</td>\n",
       "      <td>0.027778</td>\n",
       "      <td>0.020202</td>\n",
       "      <td>0.067974</td>\n",
       "      <td>0.305691</td>\n",
       "      <td>0.680464</td>\n",
       "      <td>0.273425</td>\n",
       "      <td>0.0</td>\n",
       "      <td>0.400000</td>\n",
       "      <td>0.424242</td>\n",
       "      <td>0.0</td>\n",
       "    </tr>\n",
       "    <tr>\n",
       "      <th>3</th>\n",
       "      <td>0.004751</td>\n",
       "      <td>0.021441</td>\n",
       "      <td>0.031250</td>\n",
       "      <td>0.020202</td>\n",
       "      <td>0.067040</td>\n",
       "      <td>0.300813</td>\n",
       "      <td>0.697020</td>\n",
       "      <td>0.254992</td>\n",
       "      <td>0.0</td>\n",
       "      <td>0.466667</td>\n",
       "      <td>0.234848</td>\n",
       "      <td>0.0</td>\n",
       "    </tr>\n",
       "    <tr>\n",
       "      <th>4</th>\n",
       "      <td>0.001188</td>\n",
       "      <td>0.023442</td>\n",
       "      <td>0.034722</td>\n",
       "      <td>0.020202</td>\n",
       "      <td>0.067040</td>\n",
       "      <td>0.291057</td>\n",
       "      <td>0.708609</td>\n",
       "      <td>0.253456</td>\n",
       "      <td>0.0</td>\n",
       "      <td>0.200000</td>\n",
       "      <td>0.151515</td>\n",
       "      <td>0.0</td>\n",
       "    </tr>\n",
       "    <tr>\n",
       "      <th>5</th>\n",
       "      <td>0.003563</td>\n",
       "      <td>0.035449</td>\n",
       "      <td>0.055556</td>\n",
       "      <td>0.030303</td>\n",
       "      <td>0.061437</td>\n",
       "      <td>0.287805</td>\n",
       "      <td>0.715232</td>\n",
       "      <td>0.251920</td>\n",
       "      <td>0.0</td>\n",
       "      <td>0.200000</td>\n",
       "      <td>0.280303</td>\n",
       "      <td>0.0</td>\n",
       "    </tr>\n",
       "    <tr>\n",
       "      <th>6</th>\n",
       "      <td>0.001188</td>\n",
       "      <td>0.035449</td>\n",
       "      <td>0.104167</td>\n",
       "      <td>0.040404</td>\n",
       "      <td>0.046495</td>\n",
       "      <td>0.281301</td>\n",
       "      <td>0.730132</td>\n",
       "      <td>0.259601</td>\n",
       "      <td>0.0</td>\n",
       "      <td>0.333333</td>\n",
       "      <td>0.189394</td>\n",
       "      <td>0.0</td>\n",
       "    </tr>\n",
       "    <tr>\n",
       "      <th>7</th>\n",
       "      <td>0.001188</td>\n",
       "      <td>0.037450</td>\n",
       "      <td>0.135417</td>\n",
       "      <td>0.040404</td>\n",
       "      <td>0.039957</td>\n",
       "      <td>0.297561</td>\n",
       "      <td>0.745033</td>\n",
       "      <td>0.259601</td>\n",
       "      <td>0.0</td>\n",
       "      <td>0.400000</td>\n",
       "      <td>0.287879</td>\n",
       "      <td>0.0</td>\n",
       "    </tr>\n",
       "    <tr>\n",
       "      <th>8</th>\n",
       "      <td>0.001188</td>\n",
       "      <td>0.031447</td>\n",
       "      <td>0.142361</td>\n",
       "      <td>0.040404</td>\n",
       "      <td>0.041825</td>\n",
       "      <td>0.325203</td>\n",
       "      <td>0.759934</td>\n",
       "      <td>0.258065</td>\n",
       "      <td>0.0</td>\n",
       "      <td>0.400000</td>\n",
       "      <td>0.310606</td>\n",
       "      <td>0.0</td>\n",
       "    </tr>\n",
       "    <tr>\n",
       "      <th>9</th>\n",
       "      <td>0.001188</td>\n",
       "      <td>0.023442</td>\n",
       "      <td>0.090278</td>\n",
       "      <td>0.030303</td>\n",
       "      <td>0.054900</td>\n",
       "      <td>0.343089</td>\n",
       "      <td>0.763245</td>\n",
       "      <td>0.256528</td>\n",
       "      <td>0.0</td>\n",
       "      <td>0.200000</td>\n",
       "      <td>0.196970</td>\n",
       "      <td>0.0</td>\n",
       "    </tr>\n",
       "  </tbody>\n",
       "</table>\n",
       "</div>"
      ],
      "text/plain": [
       "      PM2.5       SO2       NO2        CO        O3      TEMP      PRES  \\\n",
       "0  0.002375  0.007433  0.017361  0.020202  0.071710  0.312195  0.672185   \n",
       "1  0.007126  0.007433  0.017361  0.020202  0.071710  0.305691  0.675497   \n",
       "2  0.005938  0.009434  0.027778  0.020202  0.067974  0.305691  0.680464   \n",
       "3  0.004751  0.021441  0.031250  0.020202  0.067040  0.300813  0.697020   \n",
       "4  0.001188  0.023442  0.034722  0.020202  0.067040  0.291057  0.708609   \n",
       "5  0.003563  0.035449  0.055556  0.030303  0.061437  0.287805  0.715232   \n",
       "6  0.001188  0.035449  0.104167  0.040404  0.046495  0.281301  0.730132   \n",
       "7  0.001188  0.037450  0.135417  0.040404  0.039957  0.297561  0.745033   \n",
       "8  0.001188  0.031447  0.142361  0.040404  0.041825  0.325203  0.759934   \n",
       "9  0.001188  0.023442  0.090278  0.030303  0.054900  0.343089  0.763245   \n",
       "\n",
       "       DEWP  RAIN        wd      WSPM  station  \n",
       "0  0.264209   0.0  0.400000  0.333333      0.0  \n",
       "1  0.273425   0.0  0.200000  0.356061      0.0  \n",
       "2  0.273425   0.0  0.400000  0.424242      0.0  \n",
       "3  0.254992   0.0  0.466667  0.234848      0.0  \n",
       "4  0.253456   0.0  0.200000  0.151515      0.0  \n",
       "5  0.251920   0.0  0.200000  0.280303      0.0  \n",
       "6  0.259601   0.0  0.333333  0.189394      0.0  \n",
       "7  0.259601   0.0  0.400000  0.287879      0.0  \n",
       "8  0.258065   0.0  0.400000  0.310606      0.0  \n",
       "9  0.256528   0.0  0.200000  0.196970      0.0  "
      ]
     },
     "execution_count": 13,
     "metadata": {},
     "output_type": "execute_result"
    }
   ],
   "source": [
    "df_temp[0].head(10)"
   ]
  },
  {
   "cell_type": "code",
   "execution_count": 14,
   "metadata": {},
   "outputs": [],
   "source": [
    "X = df_temp[0].drop(['PM2.5'], axis=1)\n",
    "y = df_temp[0]['PM2.5']\n",
    "\n",
    "data = create_sequences(X, y, 'station')"
   ]
  },
  {
   "cell_type": "code",
   "execution_count": 15,
   "metadata": {},
   "outputs": [
    {
     "data": {
      "text/plain": [
       "(381856, 24, 11)"
      ]
     },
     "execution_count": 15,
     "metadata": {},
     "output_type": "execute_result"
    }
   ],
   "source": [
    "data[0].shape"
   ]
  },
  {
   "cell_type": "code",
   "execution_count": 16,
   "metadata": {},
   "outputs": [],
   "source": [
    "X_temp = data[0]\n",
    "y_temp = data[1]\n",
    "\n",
    "X_train, X_test, y_train, y_test = train_test_split(X_temp, y_temp, test_size=0.2, random_state=13)"
   ]
  },
  {
   "cell_type": "code",
   "execution_count": 17,
   "metadata": {},
   "outputs": [],
   "source": [
    "epochs = 150"
   ]
  },
  {
   "cell_type": "code",
   "execution_count": 18,
   "metadata": {},
   "outputs": [],
   "source": [
    "cnn_model = models.Sequential()\n",
    "cnn_model.add(layers.Conv1D(32, 3, activation='relu', input_shape=(24, 11)))\n",
    "cnn_model.add(layers.MaxPooling1D(2))\n",
    "cnn_model.add(layers.Conv1D(64, 3, activation='relu'))\n",
    "cnn_model.add(layers.MaxPooling1D(2))\n",
    "cnn_model.add(layers.Flatten())\n",
    "cnn_model.add(layers.Dense(100, activation='relu'))\n",
    "cnn_model.add(layers.Dropout(0.3))\n",
    "cnn_model.add(layers.Dense(50, activation='relu'))\n",
    "cnn_model.add(layers.Dropout(0.3))\n",
    "cnn_model.add(layers.Dense(1))"
   ]
  },
  {
   "cell_type": "code",
   "execution_count": 19,
   "metadata": {},
   "outputs": [
    {
     "data": {
      "image/png": "[encoded data removed]",
      "text/plain": [
       "<Figure size 432x288 with 1 Axes>"
      ]
     },
     "metadata": {
      "needs_background": "light"
     },
     "output_type": "display_data"
    }
   ],
   "source": [
    "cnn_model.compile(optimizer='adam', loss='mean_squared_error', metrics=['mean_squared_error'])\n",
    "\n",
    "history = cnn_model.fit(X_train, y_train, epochs=epochs, validation_data=(X_test, y_test), verbose=0, callbacks=[plot_losses])"
   ]
  },
  {
   "cell_type": "code",
   "execution_count": 20,
   "metadata": {},
   "outputs": [],
   "source": [
    "dnn_model = models.Sequential()\n",
    "dnn_model.add(layers.Flatten())\n",
    "dnn_model.add(layers.Dense(500, activation='relu'))\n",
    "dnn_model.add(layers.Dropout(0.3))\n",
    "dnn_model.add(layers.Dense(250, activation='relu'))\n",
    "dnn_model.add(layers.Dropout(0.3))\n",
    "dnn_model.add(layers.Dense(100, activation='relu'))\n",
    "dnn_model.add(layers.Dropout(0.3))\n",
    "dnn_model.add(layers.Dense(1))"
   ]
  },
  {
   "cell_type": "code",
   "execution_count": 21,
   "metadata": {},
   "outputs": [
    {
     "data": {
      "image/png": "[encoded data removed]",
      "text/plain": [
       "<Figure size 432x288 with 1 Axes>"
      ]
     },
     "metadata": {
      "needs_background": "light"
     },
     "output_type": "display_data"
    }
   ],
   "source": [
    "dnn_model.compile(optimizer='adam', loss='mean_squared_error', metrics=['mean_squared_error'])\n",
    "\n",
    "history = dnn_model.fit(X_train, y_train, epochs=epochs, validation_data=(X_test, y_test), verbose=0, callbacks=[plot_losses])"
   ]
  },
  {
   "cell_type": "code",
   "execution_count": 22,
   "metadata": {},
   "outputs": [],
   "source": [
    "rnn_model = models.Sequential()\n",
    "rnn_model.add(layers.LSTM(32, return_sequences=True))\n",
    "rnn_model.add(layers.Flatten())\n",
    "rnn_model.add(layers.Dense(100, activation='relu'))\n",
    "rnn_model.add(layers.Dropout(0.3))\n",
    "rnn_model.add(layers.Dense(1))"
   ]
  },
  {
   "cell_type": "code",
   "execution_count": 23,
   "metadata": {},
   "outputs": [
    {
     "data": {
      "image/png": "[encoded data removed]",
      "text/plain": [
       "<Figure size 432x288 with 1 Axes>"
      ]
     },
     "metadata": {
      "needs_background": "light"
     },
     "output_type": "display_data"
    }
   ],
   "source": [
    "rnn_model.compile(optimizer='adam', loss='mean_squared_error', metrics=['mean_squared_error'])\n",
    "\n",
    "history = rnn_model.fit(X_train, y_train, epochs=epochs, validation_data=(X_test, y_test), verbose=0, callbacks=[plot_losses])"
   ]
  },
  {
   "cell_type": "code",
   "execution_count": 24,
   "metadata": {},
   "outputs": [],
   "source": [
    "dataset_test = [X_test, y_test]\n",
    "\n",
    "cnn_model.save('./beijing_air_multi_site_cnn_model.h5')\n",
    "dnn_model.save('./beijing_air_multi_site_dnn_model.h5')\n",
    "rnn_model.save('./beijing_air_multi_site_rnn_model.h5')\n",
    "\n",
    "with open('./beijing_air_multi_site_test_data.dill', 'wb') as f:\n",
    "    dill.dump(dataset_test, f)"
   ]
  },
  {
   "cell_type": "code",
   "execution_count": null,
   "metadata": {},
   "outputs": [],
   "source": []
  }
 ],
 "metadata": {
  "kernelspec": {
   "display_name": "EBZ",
   "language": "python",
   "name": "ebz"
  },
  "language_info": {
   "codemirror_mode": {
    "name": "ipython",
    "version": 3
   },
   "file_extension": ".py",
   "mimetype": "text/x-python",
   "name": "python",
   "nbconvert_exporter": "python",
   "pygments_lexer": "ipython3",
   "version": "3.8.8"
  }
 },
 "nbformat": 4,
 "nbformat_minor": 4
}
