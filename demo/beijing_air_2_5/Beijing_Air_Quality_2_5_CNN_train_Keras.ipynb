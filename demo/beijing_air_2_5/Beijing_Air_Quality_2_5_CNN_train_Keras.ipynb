{
 "cells": [
  {
   "cell_type": "markdown",
   "metadata": {},
   "source": [
    "# Example for the Beijing Air Quality 2.5 Dataset\n",
    "\n",
    "https://archive.ics.uci.edu/ml/datasets/Beijing+PM2.5+Data"
   ]
  },
  {
   "cell_type": "code",
   "execution_count": 41,
   "metadata": {},
   "outputs": [],
   "source": [
    "import dill\n",
    "\n",
    "import numpy as np\n",
    "import pandas as pd\n",
    "\n",
    "import tensorflow as tf\n",
    "\n",
    "from tensorflow.keras import datasets, layers, models\n",
    "\n",
    "from matplotlib import pyplot as plt\n",
    "from IPython.display import clear_output"
   ]
  },
  {
   "cell_type": "code",
   "execution_count": 28,
   "metadata": {},
   "outputs": [],
   "source": [
    "class PlotLosses(tf.keras.callbacks.Callback):\n",
    "    def on_train_begin(self, logs={}):\n",
    "        self.i = 0\n",
    "        self.x = []\n",
    "        self.losses = []\n",
    "        self.val_losses = []\n",
    "        \n",
    "        self.fig = plt.figure()\n",
    "        \n",
    "        self.logs = []\n",
    "\n",
    "    def on_epoch_end(self, epoch, logs={}):\n",
    "        \n",
    "        self.logs.append(logs)\n",
    "        self.x.append(self.i)\n",
    "        self.losses.append(logs.get('loss'))\n",
    "        self.val_losses.append(logs.get('val_loss'))\n",
    "        self.i += 1\n",
    "        \n",
    "        clear_output(wait=True)\n",
    "        plt.plot(self.x, self.losses, label='loss')\n",
    "        plt.plot(self.x, self.val_losses, label='val_loss')\n",
    "        plt.legend()\n",
    "        plt.show();\n",
    "        \n",
    "plot_losses = PlotLosses()"
   ]
  },
  {
   "cell_type": "code",
   "execution_count": 29,
   "metadata": {},
   "outputs": [
    {
     "name": "stdout",
     "output_type": "stream",
     "text": [
      "43824 41757\n"
     ]
    }
   ],
   "source": [
    "dataset_link = 'https://archive.ics.uci.edu/ml/machine-learning-databases/00381/PRSA_data_2010.1.1-2014.12.31.csv'\n",
    "df = pd.read_csv(dataset_link)\n",
    "\n",
    "print(len(df), len(df.dropna()))\n",
    "\n",
    "df_temp = df.copy()\n",
    "df_temp = df_temp.dropna()\n",
    "df_temp = df_temp.reset_index()\n",
    "\n",
    "\n",
    "# df['Datetime'] = pd.to_datetime(df[['day', 'month', 'year']]) + pd.to_timedelta(df['hour'], 'h')\n",
    "\n",
    "df_temp = df_temp.drop(['index', 'No', 'day', 'month', 'year', 'hour'], axis=1)\n",
    "df_temp['cbwd'] = df_temp['cbwd'].astype('category').cat.codes\n",
    "\n",
    "epochs = 250\n",
    "\n",
    "normalize = False\n",
    "standardize = True\n",
    "\n",
    "min_max_dict = {}\n",
    "std_mean_dict = {}\n",
    "\n",
    "if normalize:\n",
    "\n",
    "    for feature_name in df_temp.columns:\n",
    "        max_value = df_temp[feature_name].max()\n",
    "        min_value = df_temp[feature_name].min()\n",
    "\n",
    "        df_temp[feature_name] = (df_temp[feature_name] - min_value) / (max_value - min_value)\n",
    "        \n",
    "        min_max_dict[feature_name] = {'max': max_value, 'min': min_value}\n",
    "        \n",
    "elif standardize:\n",
    "\n",
    "    for feature_name in df_temp.columns:\n",
    "        std_value = df_temp[feature_name].std()\n",
    "        mean_value = df_temp[feature_name].mean()\n",
    "\n",
    "        df_temp[feature_name] = (df_temp[feature_name] - mean_value) / std_value\n",
    "        \n",
    "        std_mean_dict[feature_name] = {'std': std_value, 'mean': mean_value}"
   ]
  },
  {
   "cell_type": "code",
   "execution_count": 30,
   "metadata": {},
   "outputs": [
    {
     "data": {
      "text/html": [
       "<div>\n",
       "<style scoped>\n",
       "    .dataframe tbody tr th:only-of-type {\n",
       "        vertical-align: middle;\n",
       "    }\n",
       "\n",
       "    .dataframe tbody tr th {\n",
       "        vertical-align: top;\n",
       "    }\n",
       "\n",
       "    .dataframe thead th {\n",
       "        text-align: right;\n",
       "    }\n",
       "</style>\n",
       "<table border=\"1\" class=\"dataframe\">\n",
       "  <thead>\n",
       "    <tr style=\"text-align: right;\">\n",
       "      <th></th>\n",
       "      <th>pm2.5</th>\n",
       "      <th>DEWP</th>\n",
       "      <th>TEMP</th>\n",
       "      <th>PRES</th>\n",
       "      <th>cbwd</th>\n",
       "      <th>Iws</th>\n",
       "      <th>Is</th>\n",
       "      <th>Ir</th>\n",
       "    </tr>\n",
       "  </thead>\n",
       "  <tbody>\n",
       "    <tr>\n",
       "      <th>0</th>\n",
       "      <td>0.330110</td>\n",
       "      <td>-1.229777</td>\n",
       "      <td>-1.347127</td>\n",
       "      <td>0.345325</td>\n",
       "      <td>0.358837</td>\n",
       "      <td>-0.444939</td>\n",
       "      <td>-0.071056</td>\n",
       "      <td>-0.137407</td>\n",
       "    </tr>\n",
       "    <tr>\n",
       "      <th>1</th>\n",
       "      <td>0.536519</td>\n",
       "      <td>-1.160494</td>\n",
       "      <td>-1.347127</td>\n",
       "      <td>0.345325</td>\n",
       "      <td>0.358837</td>\n",
       "      <td>-0.427002</td>\n",
       "      <td>-0.071056</td>\n",
       "      <td>-0.137407</td>\n",
       "    </tr>\n",
       "    <tr>\n",
       "      <th>2</th>\n",
       "      <td>0.656019</td>\n",
       "      <td>-0.883364</td>\n",
       "      <td>-1.429261</td>\n",
       "      <td>0.442406</td>\n",
       "      <td>0.358837</td>\n",
       "      <td>-0.409064</td>\n",
       "      <td>-0.071056</td>\n",
       "      <td>-0.137407</td>\n",
       "    </tr>\n",
       "    <tr>\n",
       "      <th>3</th>\n",
       "      <td>0.895018</td>\n",
       "      <td>-0.606234</td>\n",
       "      <td>-1.429261</td>\n",
       "      <td>0.539486</td>\n",
       "      <td>0.358837</td>\n",
       "      <td>-0.372988</td>\n",
       "      <td>1.212847</td>\n",
       "      <td>-0.137407</td>\n",
       "    </tr>\n",
       "    <tr>\n",
       "      <th>4</th>\n",
       "      <td>0.427883</td>\n",
       "      <td>-0.606234</td>\n",
       "      <td>-1.429261</td>\n",
       "      <td>0.539486</td>\n",
       "      <td>0.358837</td>\n",
       "      <td>-0.355051</td>\n",
       "      <td>2.496751</td>\n",
       "      <td>-0.137407</td>\n",
       "    </tr>\n",
       "    <tr>\n",
       "      <th>5</th>\n",
       "      <td>0.112838</td>\n",
       "      <td>-0.606234</td>\n",
       "      <td>-1.511395</td>\n",
       "      <td>0.539486</td>\n",
       "      <td>0.358837</td>\n",
       "      <td>-0.337114</td>\n",
       "      <td>3.780654</td>\n",
       "      <td>-0.137407</td>\n",
       "    </tr>\n",
       "    <tr>\n",
       "      <th>6</th>\n",
       "      <td>0.069384</td>\n",
       "      <td>-0.606234</td>\n",
       "      <td>-1.511395</td>\n",
       "      <td>0.636567</td>\n",
       "      <td>0.358837</td>\n",
       "      <td>-0.301038</td>\n",
       "      <td>5.064558</td>\n",
       "      <td>-0.137407</td>\n",
       "    </tr>\n",
       "    <tr>\n",
       "      <th>7</th>\n",
       "      <td>0.275792</td>\n",
       "      <td>-0.606234</td>\n",
       "      <td>-1.429261</td>\n",
       "      <td>0.733647</td>\n",
       "      <td>0.358837</td>\n",
       "      <td>-0.264962</td>\n",
       "      <td>-0.071056</td>\n",
       "      <td>-0.137407</td>\n",
       "    </tr>\n",
       "    <tr>\n",
       "      <th>8</th>\n",
       "      <td>0.232338</td>\n",
       "      <td>-0.675516</td>\n",
       "      <td>-1.511395</td>\n",
       "      <td>0.733647</td>\n",
       "      <td>0.358837</td>\n",
       "      <td>-0.228886</td>\n",
       "      <td>-0.071056</td>\n",
       "      <td>-0.137407</td>\n",
       "    </tr>\n",
       "    <tr>\n",
       "      <th>9</th>\n",
       "      <td>0.362701</td>\n",
       "      <td>-0.606234</td>\n",
       "      <td>-1.429261</td>\n",
       "      <td>0.830728</td>\n",
       "      <td>0.358837</td>\n",
       "      <td>-0.192810</td>\n",
       "      <td>-0.071056</td>\n",
       "      <td>-0.137407</td>\n",
       "    </tr>\n",
       "  </tbody>\n",
       "</table>\n",
       "</div>"
      ],
      "text/plain": [
       "      pm2.5      DEWP      TEMP      PRES      cbwd       Iws        Is  \\\n",
       "0  0.330110 -1.229777 -1.347127  0.345325  0.358837 -0.444939 -0.071056   \n",
       "1  0.536519 -1.160494 -1.347127  0.345325  0.358837 -0.427002 -0.071056   \n",
       "2  0.656019 -0.883364 -1.429261  0.442406  0.358837 -0.409064 -0.071056   \n",
       "3  0.895018 -0.606234 -1.429261  0.539486  0.358837 -0.372988  1.212847   \n",
       "4  0.427883 -0.606234 -1.429261  0.539486  0.358837 -0.355051  2.496751   \n",
       "5  0.112838 -0.606234 -1.511395  0.539486  0.358837 -0.337114  3.780654   \n",
       "6  0.069384 -0.606234 -1.511395  0.636567  0.358837 -0.301038  5.064558   \n",
       "7  0.275792 -0.606234 -1.429261  0.733647  0.358837 -0.264962 -0.071056   \n",
       "8  0.232338 -0.675516 -1.511395  0.733647  0.358837 -0.228886 -0.071056   \n",
       "9  0.362701 -0.606234 -1.429261  0.830728  0.358837 -0.192810 -0.071056   \n",
       "\n",
       "         Ir  \n",
       "0 -0.137407  \n",
       "1 -0.137407  \n",
       "2 -0.137407  \n",
       "3 -0.137407  \n",
       "4 -0.137407  \n",
       "5 -0.137407  \n",
       "6 -0.137407  \n",
       "7 -0.137407  \n",
       "8 -0.137407  \n",
       "9 -0.137407  "
      ]
     },
     "execution_count": 30,
     "metadata": {},
     "output_type": "execute_result"
    }
   ],
   "source": [
    "df_temp.iloc[:10]"
   ]
  },
  {
   "cell_type": "code",
   "execution_count": 31,
   "metadata": {},
   "outputs": [
    {
     "name": "stdout",
     "output_type": "stream",
     "text": [
      "33405 8351\n",
      "33405 33405 8351 8351\n"
     ]
    }
   ],
   "source": [
    "train_size = int(len(df_temp) * 0.8)\n",
    "\n",
    "train = df_temp.iloc[:train_size]\n",
    "test = df_temp.iloc[train_size + 1:]\n",
    "\n",
    "X_train = train.drop(['pm2.5'], axis=1)\n",
    "y_train = train['pm2.5']\n",
    "\n",
    "X_test = test.drop(['pm2.5'], axis=1)\n",
    "y_test = test['pm2.5']\n",
    "\n",
    "print(len(train), len(test))\n",
    "print(len(X_train), len(y_train), len(X_test), len(y_test))"
   ]
  },
  {
   "cell_type": "code",
   "execution_count": 32,
   "metadata": {},
   "outputs": [],
   "source": [
    "def create_sequences(X, y, n_steps=24):\n",
    "    dataset_X = []\n",
    "    dataset_y = []\n",
    "    \n",
    "    for i in range(len(X) - (n_steps + 2)):        \n",
    "        dataset_X.append(X.iloc[i:i + n_steps].values)\n",
    "        dataset_y.append(y.iloc[i + n_steps + 1])\n",
    "        \n",
    "    return np.asarray(dataset_X), np.asarray(dataset_y)"
   ]
  },
  {
   "cell_type": "code",
   "execution_count": 33,
   "metadata": {},
   "outputs": [],
   "source": [
    "dataset_train = create_sequences(X_train, y_train)\n",
    "dataset_test = create_sequences(X_test, y_test)"
   ]
  },
  {
   "cell_type": "code",
   "execution_count": 34,
   "metadata": {},
   "outputs": [],
   "source": [
    "cnn_model = models.Sequential()\n",
    "cnn_model.add(layers.Conv1D(32, 3, activation='relu', input_shape=(24, 7)))\n",
    "cnn_model.add(layers.MaxPooling1D(2))\n",
    "cnn_model.add(layers.Conv1D(64, 3, activation='relu'))\n",
    "cnn_model.add(layers.MaxPooling1D(2))\n",
    "cnn_model.add(layers.Flatten())\n",
    "cnn_model.add(layers.Dense(100, activation='relu'))\n",
    "cnn_model.add(layers.Dropout(0.3))\n",
    "cnn_model.add(layers.Dense(50, activation='relu'))\n",
    "cnn_model.add(layers.Dropout(0.3))\n",
    "cnn_model.add(layers.Dense(1))"
   ]
  },
  {
   "cell_type": "code",
   "execution_count": 35,
   "metadata": {},
   "outputs": [
    {
     "data": {
      "image/png": "[encoded data removed]",
      "text/plain": [
       "<Figure size 432x288 with 1 Axes>"
      ]
     },
     "metadata": {
      "needs_background": "light"
     },
     "output_type": "display_data"
    }
   ],
   "source": [
    "rmse = tf.keras.metrics.RootMeanSquaredError()\n",
    "\n",
    "cnn_model.compile(optimizer='adam', loss='mse', metrics=[rmse])\n",
    "\n",
    "history = cnn_model.fit(dataset_train[0], dataset_train[1], epochs=epochs, validation_data=(dataset_test[0], dataset_test[1]), verbose=0, callbacks=[plot_losses])"
   ]
  },
  {
   "cell_type": "code",
   "execution_count": 36,
   "metadata": {},
   "outputs": [],
   "source": [
    "dnn_model = models.Sequential()\n",
    "dnn_model.add(layers.Flatten())\n",
    "dnn_model.add(layers.Dense(500, activation='relu'))\n",
    "dnn_model.add(layers.Dropout(0.3))\n",
    "dnn_model.add(layers.Dense(250, activation='relu'))\n",
    "dnn_model.add(layers.Dropout(0.3))\n",
    "dnn_model.add(layers.Dense(100, activation='relu'))\n",
    "dnn_model.add(layers.Dropout(0.3))\n",
    "dnn_model.add(layers.Dense(1))"
   ]
  },
  {
   "cell_type": "code",
   "execution_count": 37,
   "metadata": {},
   "outputs": [
    {
     "data": {
      "image/png": "[encoded data removed]",
      "text/plain": [
       "<Figure size 432x288 with 1 Axes>"
      ]
     },
     "metadata": {
      "needs_background": "light"
     },
     "output_type": "display_data"
    }
   ],
   "source": [
    "rmse = tf.keras.metrics.RootMeanSquaredError()\n",
    "\n",
    "dnn_model.compile(optimizer='adam', loss='mean_squared_error', metrics=[rmse])\n",
    "\n",
    "history = dnn_model.fit(dataset_train[0], dataset_train[1], epochs=epochs, validation_data=(dataset_test[0], dataset_test[1]), verbose=0, callbacks=[plot_losses])"
   ]
  },
  {
   "cell_type": "code",
   "execution_count": 1,
   "metadata": {},
   "outputs": [
    {
     "output_type": "error",
     "ename": "NameError",
     "evalue": "name 'models' is not defined",
     "traceback": [
      "\u001b[0;31m---------------------------------------------------------------------------\u001b[0m",
      "\u001b[0;31mNameError\u001b[0m                                 Traceback (most recent call last)",
      "\u001b[0;32m<ipython-input-1-9e4f293d4da1>\u001b[0m in \u001b[0;36m<module>\u001b[0;34m\u001b[0m\n\u001b[0;32m----> 1\u001b[0;31m \u001b[0mrnn_model\u001b[0m \u001b[0;34m=\u001b[0m \u001b[0mmodels\u001b[0m\u001b[0;34m.\u001b[0m\u001b[0mSequential\u001b[0m\u001b[0;34m(\u001b[0m\u001b[0;34m)\u001b[0m\u001b[0;34m\u001b[0m\u001b[0;34m\u001b[0m\u001b[0m\n\u001b[0m\u001b[1;32m      2\u001b[0m \u001b[0mrnn_model\u001b[0m\u001b[0;34m.\u001b[0m\u001b[0madd\u001b[0m\u001b[0;34m(\u001b[0m\u001b[0mlayers\u001b[0m\u001b[0;34m.\u001b[0m\u001b[0mLSTM\u001b[0m\u001b[0;34m(\u001b[0m\u001b[0;36m32\u001b[0m\u001b[0;34m,\u001b[0m \u001b[0mreturn_sequences\u001b[0m\u001b[0;34m=\u001b[0m\u001b[0;32mTrue\u001b[0m\u001b[0;34m)\u001b[0m\u001b[0;34m)\u001b[0m\u001b[0;34m\u001b[0m\u001b[0;34m\u001b[0m\u001b[0m\n\u001b[1;32m      3\u001b[0m \u001b[0mrnn_model\u001b[0m\u001b[0;34m.\u001b[0m\u001b[0madd\u001b[0m\u001b[0;34m(\u001b[0m\u001b[0mlayers\u001b[0m\u001b[0;34m.\u001b[0m\u001b[0mFlatten\u001b[0m\u001b[0;34m(\u001b[0m\u001b[0;34m)\u001b[0m\u001b[0;34m)\u001b[0m\u001b[0;34m\u001b[0m\u001b[0;34m\u001b[0m\u001b[0m\n\u001b[1;32m      4\u001b[0m \u001b[0mrnn_model\u001b[0m\u001b[0;34m.\u001b[0m\u001b[0madd\u001b[0m\u001b[0;34m(\u001b[0m\u001b[0mlayers\u001b[0m\u001b[0;34m.\u001b[0m\u001b[0mDense\u001b[0m\u001b[0;34m(\u001b[0m\u001b[0;36m100\u001b[0m\u001b[0;34m,\u001b[0m \u001b[0mactivation\u001b[0m\u001b[0;34m=\u001b[0m\u001b[0;34m'relu'\u001b[0m\u001b[0;34m)\u001b[0m\u001b[0;34m)\u001b[0m\u001b[0;34m\u001b[0m\u001b[0;34m\u001b[0m\u001b[0m\n\u001b[1;32m      5\u001b[0m \u001b[0mrnn_model\u001b[0m\u001b[0;34m.\u001b[0m\u001b[0madd\u001b[0m\u001b[0;34m(\u001b[0m\u001b[0mlayers\u001b[0m\u001b[0;34m.\u001b[0m\u001b[0mDropout\u001b[0m\u001b[0;34m(\u001b[0m\u001b[0;36m0.3\u001b[0m\u001b[0;34m)\u001b[0m\u001b[0;34m)\u001b[0m\u001b[0;34m\u001b[0m\u001b[0;34m\u001b[0m\u001b[0m\n",
      "\u001b[0;31mNameError\u001b[0m: name 'models' is not defined"
     ]
    }
   ],
   "source": [
    "rnn_model = models.Sequential()\n",
    "rnn_model.add(layers.LSTM(32, return_sequences=True))\n",
    "rnn_model.add(layers.Flatten())\n",
    "rnn_model.add(layers.Dense(100, activation='relu'))\n",
    "rnn_model.add(layers.Dropout(0.3))\n",
    "rnn_model.add(layers.Dense(1))"
   ]
  },
  {
   "cell_type": "code",
   "execution_count": null,
   "metadata": {},
   "outputs": [],
   "source": [
    "rmse = tf.keras.metrics.RootMeanSquaredError()\n",
    "\n",
    "rnn_model.compile(optimizer='adam', loss='mean_squared_error', metrics=[rmse])\n",
    "\n",
    "history = rnn_model.fit(dataset_train[0], dataset_train[1], epochs=epochs, validation_data=(dataset_test[0], dataset_test[1]), verbose=0, callbacks=[plot_losses])"
   ]
  },
  {
   "cell_type": "code",
   "execution_count": 43,
   "metadata": {},
   "outputs": [],
   "source": [
    "cnn_model.save('./beijing_air_2_5_cnn_model.h5')\n",
    "dnn_model.save('./beijing_air_2_5_dnn_model.h5')\n",
    "rnn_model.save('./beijing_air_2_5_rnn_model.h5')\n",
    "\n",
    "with open('./beijing_air_2_5_test_data.dill', 'wb') as f:\n",
    "    dill.dump(dataset_test, f)"
   ]
  },
  {
   "cell_type": "code",
   "execution_count": null,
   "metadata": {},
   "outputs": [],
   "source": []
  }
 ],
 "metadata": {
  "kernelspec": {
   "display_name": "Python 3",
   "language": "python",
   "name": "python3"
  },
  "language_info": {
   "codemirror_mode": {
    "name": "ipython",
    "version": 3
   },
   "file_extension": ".py",
   "mimetype": "text/x-python",
   "name": "python",
   "nbconvert_exporter": "python",
   "pygments_lexer": "ipython3",
   "version": "3.6.9"
  },
  "metadata": {
   "interpreter": {
    "hash": "31f2aee4e71d21fbe5cf8b01ff0e069b9275f58929596ceb00d14d90e3e16cd6"
   }
  }
 },
 "nbformat": 4,
 "nbformat_minor": 4
}