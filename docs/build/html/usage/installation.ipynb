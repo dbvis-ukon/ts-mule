{
 "cells": [
  {
   "cell_type": "markdown",
   "metadata": {},
   "source": [
    "# Installation\n",
    "\n",
    "To install `tsmule` through `pip`\n",
    "\n",
    "```python\n",
    "python3 -m pip install tsmule\n",
    "```\n"
   ]
  },
  {
   "cell_type": "markdown",
   "metadata": {},
   "source": [
    "Alternatively, you also can install [tsmule](https://github.com/dbvis-ukon/ts-mule)\n",
    "\n",
    "```bash\n",
    "git clone git@github.com:dbvis-ukon/ts-mule.git\n",
    "cd ts-mule\n",
    "python3 -m pip install requirements-dev.txt\n",
    "make setup\n",
    "```"
   ]
  },
  {
   "cell_type": "markdown",
   "metadata": {},
   "source": [
    "You can check the version of installed version"
   ]
  },
  {
   "cell_type": "code",
   "execution_count": 4,
   "metadata": {},
   "outputs": [
    {
     "name": "stdout",
     "output_type": "stream",
     "text": [
      "Version: 0.0.1\n"
     ]
    }
   ],
   "source": [
    "!pip show tsmule | grep 'Version'"
   ]
  }
 ],
 "metadata": {
  "kernelspec": {
   "display_name": "Python 3.7.7 64-bit ('dev37': conda)",
   "name": "python377jvsc74a57bd076fdbec98d1ff00acce9daf8fa18366555273267a59abb67ea09584c9e70ea1a"
  },
  "language_info": {
   "codemirror_mode": {
    "name": "ipython",
    "version": 3
   },
   "file_extension": ".py",
   "mimetype": "text/x-python",
   "name": "python",
   "nbconvert_exporter": "python",
   "pygments_lexer": "ipython3",
   "version": "3.7.7"
  },
  "metadata": {
   "interpreter": {
    "hash": "aee8b7b246df8f9039afb4144a1f6fd8d2ca17a180786b69acc140d282b71a49"
   }
  }
 },
 "nbformat": 4,
 "nbformat_minor": 2
}
