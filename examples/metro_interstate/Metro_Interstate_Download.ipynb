{
 "cells": [
  {
   "cell_type": "code",
   "execution_count": 1,
   "id": "1565ed5e-3658-4afe-b251-8df5259abf35",
   "metadata": {},
   "outputs": [],
   "source": [
    "import requests\n",
    "\n",
    "def download_file_from_google_drive(id, destination):\n",
    "    URL = 'https://docs.google.com/uc?export=download'\n",
    "\n",
    "    session = requests.Session()\n",
    "\n",
    "    response = session.get(URL, params={'id': id}, stream=True)\n",
    "    token = get_confirm_token(response)\n",
    "\n",
    "    if token:\n",
    "        params = {'id': id, 'confirm': token}\n",
    "        response = session.get(URL, params=params, stream=True)\n",
    "\n",
    "    save_response_content(response, destination)    \n",
    "\n",
    "def get_confirm_token(response):\n",
    "    for key, value in response.cookies.items():\n",
    "        if key.startswith('download_warning'):\n",
    "            return value\n",
    "\n",
    "    return None\n",
    "\n",
    "def save_response_content(response, destination):\n",
    "    CHUNK_SIZE = 32768\n",
    "\n",
    "    with open(destination, 'wb') as f:\n",
    "        for chunk in response.iter_content(CHUNK_SIZE):\n",
    "            if chunk: # filter out keep-alive new chunks\n",
    "                f.write(chunk)"
   ]
  },
  {
   "cell_type": "code",
   "execution_count": 14,
   "id": "59410d0a-1b21-472a-ba20-86e3cbe70c43",
   "metadata": {},
   "outputs": [],
   "source": [
    "file_links = []\n",
    "\n",
    "with open('download_link.txt', 'r') as f:\n",
    "    for line in f.readlines():\n",
    "        if 'file' in line:\n",
    "            start_str = 'file/d/'\n",
    "            end_str = '/view?usp'\n",
    "            \n",
    "            start_idx = line.find(start_str) + len(start_str)\n",
    "            end_idx = line.find(end_str)\n",
    "            \n",
    "            name_idx = line.find(' ')\n",
    "            \n",
    "            file_links.append([line[start_idx:end_idx], line[name_idx+1:-1]])"
   ]
  },
  {
   "cell_type": "code",
   "execution_count": 16,
   "id": "e8634241-0e6a-4872-a017-17ed62b2b7c0",
   "metadata": {},
   "outputs": [
    {
     "data": {
      "text/plain": [
       "[['1OxJ-kEA5fZ9Fk0GzzibU_34_7oyArBdF', ' cnn.h5'],\n",
       " ['1gYoniKV14ZHEg3Jaji70v14OlJYrxNLz', ' dnn.h5'],\n",
       " ['15S94Uje5tRT23wJzaICnsZpabwfkdoH0', ' rnn.h5'],\n",
       " ['14snEohoTFtdwQ59OUaIh6QjV8iH19iMO', ' data_reduced.dill'],\n",
       " ['1s2TmdF7ikZFnYqf4uJ3owsL2rEZY04jA', ' data.dill']]"
      ]
     },
     "execution_count": 16,
     "metadata": {},
     "output_type": "execute_result"
    }
   ],
   "source": [
    "file_links"
   ]
  },
  {
   "cell_type": "code",
   "execution_count": 17,
   "id": "3cf3b66c-493e-4495-989d-2cc3834d5acd",
   "metadata": {},
   "outputs": [],
   "source": [
    "for f in file_links:\n",
    "    file_id = f[0]\n",
    "    destination = f[1]\n",
    "    download_file_from_google_drive(file_id, destination)"
   ]
  },
  {
   "cell_type": "code",
   "execution_count": null,
   "id": "9b7342f7-d204-42fb-b560-12906e1edac1",
   "metadata": {},
   "outputs": [],
   "source": []
  }
 ],
 "metadata": {
  "kernelspec": {
   "display_name": "TS-MULE",
   "language": "python",
   "name": "ts-mule"
  },
  "language_info": {
   "codemirror_mode": {
    "name": "ipython",
    "version": 3
   },
   "file_extension": ".py",
   "mimetype": "text/x-python",
   "name": "python",
   "nbconvert_exporter": "python",
   "pygments_lexer": "ipython3",
   "version": "3.8.10"
  }
 },
 "nbformat": 4,
 "nbformat_minor": 5
}
