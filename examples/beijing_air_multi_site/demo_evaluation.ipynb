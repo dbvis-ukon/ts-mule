{
 "metadata": {
  "language_info": {
   "codemirror_mode": {
    "name": "ipython",
    "version": 3
   },
   "file_extension": ".py",
   "mimetype": "text/x-python",
   "name": "python",
   "nbconvert_exporter": "python",
   "pygments_lexer": "ipython3",
   "version": "3.7.7"
  },
  "orig_nbformat": 2,
  "kernelspec": {
   "name": "python377jvsc74a57bd076fdbec98d1ff00acce9daf8fa18366555273267a59abb67ea09584c9e70ea1a",
   "display_name": "Python 3.7.7 64-bit ('dev37': conda)"
  }
 },
 "nbformat": 4,
 "nbformat_minor": 2,
 "cells": [
  {
   "cell_type": "code",
   "execution_count": 1,
   "metadata": {},
   "outputs": [
    {
     "output_type": "stream",
     "name": "stdout",
     "text": [
      "Current working dir: /Users/lamvo/Dev/research/ts-mule/demo/beijing_air_multi_site\n"
     ]
    }
   ],
   "source": [
    "import os\n",
    "import sys\n",
    "import warnings\n",
    "import numpy as np\n",
    "import pandas as pd\n",
    "import matplotlib.pyplot as plt\n",
    "\n",
    "# Add module tsmule to syspath\n",
    "print(\"Current working dir:\", os.getcwd())\n",
    "sys.path.insert(0, '../../')\n",
    "\n",
    "# Filter out all RuntimeWarning\n",
    "warnings.filterwarnings(\"ignore\", category=RuntimeWarning) \n",
    "\n",
    "import logging \n",
    "logging.getLogger(\"stumpy\").setLevel(logging.ERROR)\n"
   ]
  },
  {
   "cell_type": "code",
   "execution_count": 2,
   "metadata": {},
   "outputs": [],
   "source": [
    "# Add module tsmule to system path\n",
    "from tsmule.xai.lime import LimeTS\n",
    "from tsmule.xai.evaluation import PerturbationAnalysis\n",
    "from tsmule.sampling.segment import MatrixProfileSegmentation, SAXSegmentation\n",
    "from tsmule.xai.viz import visualize_segmentation_mask\n"
   ]
  },
  {
   "cell_type": "code",
   "execution_count": 3,
   "metadata": {},
   "outputs": [],
   "source": [
    "import dill \n",
    "from tensorflow import keras\n",
    "\n",
    "data_dir = \".\"\n",
    "cnn_model = keras.models.load_model(f'{data_dir}/beijing_air_multi_site_cnn_model.h5')\n",
    "with open(f'{data_dir}/beijing_air_multi_site_test_data.dill', 'rb') as f:\n",
    "    dataset_test = dill.load(f)\n",
    "\n",
    "# Define a predict fn/model\n",
    "def predict_fn(x):\n",
    "    if len(x.shape) == 2:\n",
    "        predictions = cnn_model.predict(x[np.newaxis]).ravel()\n",
    "    if len(x.shape) == 3:\n",
    "        predictions = cnn_model.predict(x).ravel()\n",
    "    return predictions"
   ]
  },
  {
   "cell_type": "code",
   "execution_count": 9,
   "metadata": {},
   "outputs": [],
   "source": [
    "# Get test set\n",
    "n_instances = 100\n",
    "X = dataset_test[0][:n_instances]\n",
    "Y = dataset_test[1][:n_instances]\n"
   ]
  },
  {
   "source": [
    "# Perturbation Analysis - overall"
   ],
   "cell_type": "markdown",
   "metadata": {}
  },
  {
   "cell_type": "code",
   "execution_count": 10,
   "metadata": {
    "tags": []
   },
   "outputs": [
    {
     "output_type": "execute_result",
     "data": {
      "text/plain": [
       "{'original': 0.006235582040148577,\n",
       " 'percentile': 0.0062537777804530445,\n",
       " 'random': 0.006238465002214432}"
      ]
     },
     "metadata": {},
     "execution_count": 10
    }
   ],
   "source": [
    "from sklearn import metrics\n",
    "\n",
    "# Get relevance\n",
    "explainer = LimeTS(n_samples=100)\n",
    "relevance = [explainer.explain(x, predict_fn) for x in X]"
   ]
  },
  {
   "cell_type": "code",
   "execution_count": 19,
   "metadata": {},
   "outputs": [
    {
     "output_type": "stream",
     "name": "stdout",
     "text": [
      "{'original': 0.006235582040148577, 'percentile': 0.0062537777804530445, 'random': 0.006237656927009091}\nVerfication: mse(original) <= mse(percentile) <= mse(random):  False\n"
     ]
    }
   ],
   "source": [
    "# PerturbationAnalysis for Percentile \n",
    "#   replacement_method = 'zeros|global_mean|local_mean|inverse_max|inverse_mean'\n",
    "pa = PerturbationAnalysis()\n",
    "scores = pa.analysis_relevance(X, Y, relevance, \n",
    "                        predict_fn=predict_fn,\n",
    "                        replace_method='zeros',\n",
    "                        eval_fn=metrics.mean_squared_error,\n",
    "                        percentile=90,\n",
    "                        delta=0.1\n",
    "                        )\n",
    "print(scores)\n",
    "\n",
    "print(\"Verfication: mse(original) <= mse(percentile) <= mse(random): \", \\\n",
    "    scores[\"original\"] <= scores[\"percentile\"] <= scores[\"random\"])"
   ]
  },
  {
   "cell_type": "code",
   "execution_count": 24,
   "metadata": {},
   "outputs": [
    {
     "output_type": "stream",
     "name": "stdout",
     "text": [
      "Verfication: mse(original) <= mse(percentile) <= mse(random):  False\n"
     ]
    }
   ],
   "source": [
    "scores = pa.analysis_relevance(X, Y, relevance, \n",
    "                        predict_fn=predict_fn,\n",
    "                        replace_method='inverse_mean',\n",
    "                        eval_fn=metrics.mean_squared_error,\n",
    "                        percentile=90,\n",
    "                        delta=0.1\n",
    "                        )\n",
    "scores\n",
    "print(\"Verfication: mse(original) <= mse(percentile) <= mse(random): \", \\\n",
    "    scores[\"original\"] <= scores[\"percentile\"] <= scores[\"random\"])"
   ]
  },
  {
   "cell_type": "code",
   "execution_count": 26,
   "metadata": {},
   "outputs": [
    {
     "output_type": "stream",
     "name": "stdout",
     "text": [
      "Verfication: mse(original) <= mse(percentile) <= mse(random):  False\n"
     ]
    }
   ],
   "source": [
    "scores = pa.analysis_relevance(X, Y, relevance, \n",
    "                        predict_fn=predict_fn,\n",
    "                        replace_method='inverse_max',\n",
    "                        eval_fn=metrics.mean_squared_error,\n",
    "                        percentile=90,\n",
    "                        delta=0.1\n",
    "                        )\n",
    "scores\n",
    "print(\"Verfication: mse(original) <= mse(percentile) <= mse(random): \", \\\n",
    "    scores[\"original\"] <= scores[\"percentile\"] <= scores[\"random\"])"
   ]
  },
  {
   "cell_type": "code",
   "execution_count": null,
   "metadata": {},
   "outputs": [],
   "source": []
  }
 ]
}