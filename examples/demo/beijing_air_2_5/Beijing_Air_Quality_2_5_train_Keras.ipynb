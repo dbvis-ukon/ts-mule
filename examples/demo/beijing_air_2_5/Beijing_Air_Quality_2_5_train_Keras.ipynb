{
 "cells": [
  {
   "cell_type": "markdown",
   "metadata": {},
   "source": [
    "# Example for the Beijing Air Quality 2.5 Dataset\n",
    "\n",
    "https://archive.ics.uci.edu/ml/datasets/Beijing+PM2.5+Data"
   ]
  },
  {
   "cell_type": "code",
   "execution_count": 1,
   "metadata": {},
   "outputs": [
    {
     "name": "stdout",
     "output_type": "stream",
     "text": [
      "env: CUDA_VISIBLE_DEVICES=2\n"
     ]
    }
   ],
   "source": [
    "%env CUDA_VISIBLE_DEVICES=2"
   ]
  },
  {
   "cell_type": "code",
   "execution_count": 2,
   "metadata": {},
   "outputs": [],
   "source": [
    "import dill\n",
    "\n",
    "import numpy as np\n",
    "import pandas as pd\n",
    "\n",
    "import tensorflow as tf\n",
    "\n",
    "from tensorflow.keras import datasets, layers, models\n",
    "\n",
    "from sklearn.model_selection import train_test_split\n",
    "\n",
    "from matplotlib import pyplot as plt\n",
    "from IPython.display import clear_output"
   ]
  },
  {
   "cell_type": "code",
   "execution_count": 3,
   "metadata": {},
   "outputs": [],
   "source": [
    "from tensorflow.compat.v1 import ConfigProto\n",
    "from tensorflow.compat.v1 import InteractiveSession\n",
    "\n",
    "config = ConfigProto()\n",
    "config.gpu_options.allow_growth = True\n",
    "session = InteractiveSession(config=config)"
   ]
  },
  {
   "cell_type": "code",
   "execution_count": 4,
   "metadata": {},
   "outputs": [],
   "source": [
    "class PlotLosses(tf.keras.callbacks.Callback):\n",
    "    def on_train_begin(self, logs={}):\n",
    "        self.i = 0\n",
    "        self.x = []\n",
    "        self.losses = []\n",
    "        self.val_losses = []\n",
    "        \n",
    "        self.fig = plt.figure()\n",
    "        \n",
    "        self.logs = []\n",
    "\n",
    "    def on_epoch_end(self, epoch, logs={}):\n",
    "        \n",
    "        self.logs.append(logs)\n",
    "        self.x.append(self.i)\n",
    "        self.losses.append(logs.get('loss'))\n",
    "        self.val_losses.append(logs.get('val_loss'))\n",
    "        self.i += 1\n",
    "        \n",
    "        clear_output(wait=True)\n",
    "        plt.plot(self.x, self.losses, label='loss')\n",
    "        plt.plot(self.x, self.val_losses, label='val_loss')\n",
    "        plt.legend()\n",
    "        plt.show();\n",
    "        \n",
    "plot_losses = PlotLosses()"
   ]
  },
  {
   "cell_type": "code",
   "execution_count": 5,
   "metadata": {},
   "outputs": [
    {
     "name": "stdout",
     "output_type": "stream",
     "text": [
      "43824 41757\n"
     ]
    }
   ],
   "source": [
    "dataset_link = 'https://archive.ics.uci.edu/ml/machine-learning-databases/00381/PRSA_data_2010.1.1-2014.12.31.csv'\n",
    "df = pd.read_csv(dataset_link)\n",
    "\n",
    "print(len(df), len(df.dropna()))\n",
    "\n",
    "df_temp = df.copy()\n",
    "df_temp = df_temp.dropna()\n",
    "df_temp = df_temp.reset_index()\n",
    "\n",
    "\n",
    "df_temp = df_temp.drop(['index', 'No', 'day', 'month', 'year', 'hour'], axis=1)\n",
    "df_temp['cbwd'] = df_temp['cbwd'].astype('category').cat.codes\n",
    "\n",
    "epochs = 150\n",
    "\n",
    "normalize = True\n",
    "standardize = False\n",
    "\n",
    "min_max_dict = {}\n",
    "std_mean_dict = {}\n",
    "\n",
    "if normalize:\n",
    "\n",
    "    for feature_name in df_temp.columns:\n",
    "        max_value = df_temp[feature_name].max()\n",
    "        min_value = df_temp[feature_name].min()\n",
    "\n",
    "        df_temp[feature_name] = (df_temp[feature_name] - min_value) / (max_value - min_value)\n",
    "        \n",
    "        min_max_dict[feature_name] = {'max': max_value, 'min': min_value}\n",
    "        \n",
    "elif standardize:\n",
    "\n",
    "    for feature_name in df_temp.columns:\n",
    "        std_value = df_temp[feature_name].std()\n",
    "        mean_value = df_temp[feature_name].mean()\n",
    "\n",
    "        df_temp[feature_name] = (df_temp[feature_name] - mean_value) / std_value\n",
    "        \n",
    "        std_mean_dict[feature_name] = {'std': std_value, 'mean': mean_value}"
   ]
  },
  {
   "cell_type": "code",
   "execution_count": 6,
   "metadata": {},
   "outputs": [
    {
     "data": {
      "text/html": [
       "<div>\n",
       "<style scoped>\n",
       "    .dataframe tbody tr th:only-of-type {\n",
       "        vertical-align: middle;\n",
       "    }\n",
       "\n",
       "    .dataframe tbody tr th {\n",
       "        vertical-align: top;\n",
       "    }\n",
       "\n",
       "    .dataframe thead th {\n",
       "        text-align: right;\n",
       "    }\n",
       "</style>\n",
       "<table border=\"1\" class=\"dataframe\">\n",
       "  <thead>\n",
       "    <tr style=\"text-align: right;\">\n",
       "      <th></th>\n",
       "      <th>pm2.5</th>\n",
       "      <th>DEWP</th>\n",
       "      <th>TEMP</th>\n",
       "      <th>PRES</th>\n",
       "      <th>cbwd</th>\n",
       "      <th>Iws</th>\n",
       "      <th>Is</th>\n",
       "      <th>Ir</th>\n",
       "    </tr>\n",
       "  </thead>\n",
       "  <tbody>\n",
       "    <tr>\n",
       "      <th>0</th>\n",
       "      <td>0.129779</td>\n",
       "      <td>0.352941</td>\n",
       "      <td>0.245902</td>\n",
       "      <td>0.527273</td>\n",
       "      <td>0.666667</td>\n",
       "      <td>0.002372</td>\n",
       "      <td>0.000000</td>\n",
       "      <td>0.0</td>\n",
       "    </tr>\n",
       "    <tr>\n",
       "      <th>1</th>\n",
       "      <td>0.148893</td>\n",
       "      <td>0.367647</td>\n",
       "      <td>0.245902</td>\n",
       "      <td>0.527273</td>\n",
       "      <td>0.666667</td>\n",
       "      <td>0.003947</td>\n",
       "      <td>0.000000</td>\n",
       "      <td>0.0</td>\n",
       "    </tr>\n",
       "    <tr>\n",
       "      <th>2</th>\n",
       "      <td>0.159960</td>\n",
       "      <td>0.426471</td>\n",
       "      <td>0.229508</td>\n",
       "      <td>0.545455</td>\n",
       "      <td>0.666667</td>\n",
       "      <td>0.005522</td>\n",
       "      <td>0.000000</td>\n",
       "      <td>0.0</td>\n",
       "    </tr>\n",
       "    <tr>\n",
       "      <th>3</th>\n",
       "      <td>0.182093</td>\n",
       "      <td>0.485294</td>\n",
       "      <td>0.229508</td>\n",
       "      <td>0.563636</td>\n",
       "      <td>0.666667</td>\n",
       "      <td>0.008690</td>\n",
       "      <td>0.037037</td>\n",
       "      <td>0.0</td>\n",
       "    </tr>\n",
       "    <tr>\n",
       "      <th>4</th>\n",
       "      <td>0.138833</td>\n",
       "      <td>0.485294</td>\n",
       "      <td>0.229508</td>\n",
       "      <td>0.563636</td>\n",
       "      <td>0.666667</td>\n",
       "      <td>0.010265</td>\n",
       "      <td>0.074074</td>\n",
       "      <td>0.0</td>\n",
       "    </tr>\n",
       "    <tr>\n",
       "      <th>5</th>\n",
       "      <td>0.109658</td>\n",
       "      <td>0.485294</td>\n",
       "      <td>0.213115</td>\n",
       "      <td>0.563636</td>\n",
       "      <td>0.666667</td>\n",
       "      <td>0.011840</td>\n",
       "      <td>0.111111</td>\n",
       "      <td>0.0</td>\n",
       "    </tr>\n",
       "    <tr>\n",
       "      <th>6</th>\n",
       "      <td>0.105634</td>\n",
       "      <td>0.485294</td>\n",
       "      <td>0.213115</td>\n",
       "      <td>0.581818</td>\n",
       "      <td>0.666667</td>\n",
       "      <td>0.015008</td>\n",
       "      <td>0.148148</td>\n",
       "      <td>0.0</td>\n",
       "    </tr>\n",
       "    <tr>\n",
       "      <th>7</th>\n",
       "      <td>0.124748</td>\n",
       "      <td>0.485294</td>\n",
       "      <td>0.229508</td>\n",
       "      <td>0.600000</td>\n",
       "      <td>0.666667</td>\n",
       "      <td>0.018176</td>\n",
       "      <td>0.000000</td>\n",
       "      <td>0.0</td>\n",
       "    </tr>\n",
       "    <tr>\n",
       "      <th>8</th>\n",
       "      <td>0.120724</td>\n",
       "      <td>0.470588</td>\n",
       "      <td>0.213115</td>\n",
       "      <td>0.600000</td>\n",
       "      <td>0.666667</td>\n",
       "      <td>0.021344</td>\n",
       "      <td>0.000000</td>\n",
       "      <td>0.0</td>\n",
       "    </tr>\n",
       "    <tr>\n",
       "      <th>9</th>\n",
       "      <td>0.132797</td>\n",
       "      <td>0.485294</td>\n",
       "      <td>0.229508</td>\n",
       "      <td>0.618182</td>\n",
       "      <td>0.666667</td>\n",
       "      <td>0.024512</td>\n",
       "      <td>0.000000</td>\n",
       "      <td>0.0</td>\n",
       "    </tr>\n",
       "  </tbody>\n",
       "</table>\n",
       "</div>"
      ],
      "text/plain": [
       "      pm2.5      DEWP      TEMP      PRES      cbwd       Iws        Is   Ir\n",
       "0  0.129779  0.352941  0.245902  0.527273  0.666667  0.002372  0.000000  0.0\n",
       "1  0.148893  0.367647  0.245902  0.527273  0.666667  0.003947  0.000000  0.0\n",
       "2  0.159960  0.426471  0.229508  0.545455  0.666667  0.005522  0.000000  0.0\n",
       "3  0.182093  0.485294  0.229508  0.563636  0.666667  0.008690  0.037037  0.0\n",
       "4  0.138833  0.485294  0.229508  0.563636  0.666667  0.010265  0.074074  0.0\n",
       "5  0.109658  0.485294  0.213115  0.563636  0.666667  0.011840  0.111111  0.0\n",
       "6  0.105634  0.485294  0.213115  0.581818  0.666667  0.015008  0.148148  0.0\n",
       "7  0.124748  0.485294  0.229508  0.600000  0.666667  0.018176  0.000000  0.0\n",
       "8  0.120724  0.470588  0.213115  0.600000  0.666667  0.021344  0.000000  0.0\n",
       "9  0.132797  0.485294  0.229508  0.618182  0.666667  0.024512  0.000000  0.0"
      ]
     },
     "execution_count": 6,
     "metadata": {},
     "output_type": "execute_result"
    }
   ],
   "source": [
    "df_temp.iloc[:10]"
   ]
  },
  {
   "cell_type": "code",
   "execution_count": 7,
   "metadata": {},
   "outputs": [],
   "source": [
    "X_temp = df_temp.drop(['pm2.5'], axis=1)\n",
    "y_temp = df_temp['pm2.5']"
   ]
  },
  {
   "cell_type": "code",
   "execution_count": 8,
   "metadata": {},
   "outputs": [],
   "source": [
    "def create_sequences(X, y, n_steps=24):\n",
    "    dataset_X = []\n",
    "    dataset_y = []\n",
    "    \n",
    "    for i in range(len(X) - (n_steps + 2)):        \n",
    "        dataset_X.append(X.iloc[i:i + n_steps].values)\n",
    "        dataset_y.append(y.iloc[i + n_steps + 1])\n",
    "        \n",
    "    return np.asarray(dataset_X), np.asarray(dataset_y)"
   ]
  },
  {
   "cell_type": "code",
   "execution_count": 9,
   "metadata": {},
   "outputs": [],
   "source": [
    "dataset_temp = create_sequences(X_temp, y_temp)"
   ]
  },
  {
   "cell_type": "code",
   "execution_count": 10,
   "metadata": {},
   "outputs": [
    {
     "data": {
      "text/plain": [
       "(41731, 24, 7)"
      ]
     },
     "execution_count": 10,
     "metadata": {},
     "output_type": "execute_result"
    }
   ],
   "source": [
    "dataset_temp[0].shape"
   ]
  },
  {
   "cell_type": "code",
   "execution_count": 11,
   "metadata": {},
   "outputs": [
    {
     "data": {
      "text/plain": [
       "(41731,)"
      ]
     },
     "execution_count": 11,
     "metadata": {},
     "output_type": "execute_result"
    }
   ],
   "source": [
    "dataset_temp[1].shape"
   ]
  },
  {
   "cell_type": "code",
   "execution_count": 12,
   "metadata": {},
   "outputs": [],
   "source": [
    "X = dataset_temp[0]\n",
    "y = dataset_temp[1]\n",
    "\n",
    "X_train, X_test, y_train, y_test = train_test_split(X, y, test_size=0.2, random_state=13)"
   ]
  },
  {
   "cell_type": "code",
   "execution_count": 13,
   "metadata": {},
   "outputs": [],
   "source": [
    "cnn_model = models.Sequential()\n",
    "cnn_model.add(layers.Conv1D(32, 3, activation='relu', input_shape=(24, 7)))\n",
    "cnn_model.add(layers.MaxPooling1D(2))\n",
    "cnn_model.add(layers.Conv1D(64, 3, activation='relu'))\n",
    "cnn_model.add(layers.MaxPooling1D(2))\n",
    "cnn_model.add(layers.Flatten())\n",
    "cnn_model.add(layers.Dense(100, activation='relu'))\n",
    "cnn_model.add(layers.Dropout(0.3))\n",
    "cnn_model.add(layers.Dense(50, activation='relu'))\n",
    "cnn_model.add(layers.Dropout(0.3))\n",
    "cnn_model.add(layers.Dense(1))"
   ]
  },
  {
   "cell_type": "code",
   "execution_count": 14,
   "metadata": {},
   "outputs": [
    {
     "data": {
      "image/png": "[encoded data removed]",
      "text/plain": [
       "<Figure size 432x288 with 1 Axes>"
      ]
     },
     "metadata": {
      "needs_background": "light"
     },
     "output_type": "display_data"
    }
   ],
   "source": [
    "cnn_model.compile(optimizer='adam', loss='mean_squared_error', metrics=['mean_squared_error'])\n",
    "\n",
    "history = cnn_model.fit(X_train, y_train, epochs=epochs, validation_data=(X_test, y_test), verbose=0, callbacks=[plot_losses])"
   ]
  },
  {
   "cell_type": "code",
   "execution_count": 15,
   "metadata": {},
   "outputs": [],
   "source": [
    "dnn_model = models.Sequential()\n",
    "dnn_model.add(layers.Flatten())\n",
    "dnn_model.add(layers.Dense(500, activation='relu'))\n",
    "dnn_model.add(layers.Dropout(0.3))\n",
    "dnn_model.add(layers.Dense(250, activation='relu'))\n",
    "dnn_model.add(layers.Dropout(0.3))\n",
    "dnn_model.add(layers.Dense(100, activation='relu'))\n",
    "dnn_model.add(layers.Dropout(0.3))\n",
    "dnn_model.add(layers.Dense(1))"
   ]
  },
  {
   "cell_type": "code",
   "execution_count": 16,
   "metadata": {},
   "outputs": [
    {
     "data": {
      "image/png": "[encoded data removed]",
      "text/plain": [
       "<Figure size 432x288 with 1 Axes>"
      ]
     },
     "metadata": {
      "needs_background": "light"
     },
     "output_type": "display_data"
    }
   ],
   "source": [
    "dnn_model.compile(optimizer='adam', loss='mean_squared_error', metrics=['mean_squared_error'])\n",
    "\n",
    "history = dnn_model.fit(X_train, y_train, epochs=epochs, validation_data=(X_test, y_test), verbose=0, callbacks=[plot_losses])"
   ]
  },
  {
   "cell_type": "code",
   "execution_count": 17,
   "metadata": {},
   "outputs": [],
   "source": [
    "rnn_model = models.Sequential()\n",
    "rnn_model.add(layers.LSTM(32, return_sequences=True))\n",
    "rnn_model.add(layers.Flatten())\n",
    "rnn_model.add(layers.Dense(100, activation='relu'))\n",
    "rnn_model.add(layers.Dropout(0.3))\n",
    "rnn_model.add(layers.Dense(1))"
   ]
  },
  {
   "cell_type": "code",
   "execution_count": 18,
   "metadata": {},
   "outputs": [
    {
     "data": {
      "image/png": "[encoded data removed]",
      "text/plain": [
       "<Figure size 432x288 with 1 Axes>"
      ]
     },
     "metadata": {
      "needs_background": "light"
     },
     "output_type": "display_data"
    }
   ],
   "source": [
    "rnn_model.compile(optimizer='adam', loss='mean_squared_error', metrics=['mean_squared_error'])\n",
    "\n",
    "history = rnn_model.fit(X_train, y_train, epochs=epochs, validation_data=(X_test, y_test), verbose=0, callbacks=[plot_losses])"
   ]
  },
  {
   "cell_type": "code",
   "execution_count": 19,
   "metadata": {},
   "outputs": [],
   "source": [
    "dataset_test = [X_test, y_test]\n",
    "dataset_test_reduced = [X_test[:10000], y_test[:10000]]\n",
    "\n",
    "cnn_model.save('./beijing_air_2_5_cnn_model.h5')\n",
    "dnn_model.save('./beijing_air_2_5_dnn_model.h5')\n",
    "rnn_model.save('./beijing_air_2_5_rnn_model.h5')\n",
    "\n",
    "with open('./beijing_air_2_5_test_data.dill', 'wb') as f:\n",
    "    dill.dump(dataset_test, f)\n",
    "    \n",
    "with open('./beijing_air_2_5_test_data_reduced.dill', 'wb') as f:\n",
    "    dill.dump(dataset_test_reduced, f)"
   ]
  },
  {
   "cell_type": "code",
   "execution_count": null,
   "metadata": {},
   "outputs": [],
   "source": []
  }
 ],
 "metadata": {
  "kernelspec": {
   "display_name": "EBZ",
   "language": "python",
   "name": "ebz"
  },
  "language_info": {
   "codemirror_mode": {
    "name": "ipython",
    "version": 3
   },
   "file_extension": ".py",
   "mimetype": "text/x-python",
   "name": "python",
   "nbconvert_exporter": "python",
   "pygments_lexer": "ipython3",
   "version": "3.8.8"
  },
  "metadata": {
   "interpreter": {
    "hash": "31f2aee4e71d21fbe5cf8b01ff0e069b9275f58929596ceb00d14d90e3e16cd6"
   }
  }
 },
 "nbformat": 4,
 "nbformat_minor": 4
}