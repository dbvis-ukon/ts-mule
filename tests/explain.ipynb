{
 "metadata": {
  "language_info": {
   "codemirror_mode": {
    "name": "ipython",
    "version": 3
   },
   "file_extension": ".py",
   "mimetype": "text/x-python",
   "name": "python",
   "nbconvert_exporter": "python",
   "pygments_lexer": "ipython3",
   "version": "3.7.7"
  },
  "orig_nbformat": 2,
  "kernelspec": {
   "name": "python377jvsc74a57bd076fdbec98d1ff00acce9daf8fa18366555273267a59abb67ea09584c9e70ea1a",
   "display_name": "Python 3.7.7 64-bit ('dev37': conda)"
  }
 },
 "nbformat": 4,
 "nbformat_minor": 2,
 "cells": [
  {
   "cell_type": "code",
   "execution_count": 9,
   "metadata": {},
   "outputs": [],
   "source": [
    "import numpy as np\n",
    "import pandas as pd\n",
    "import stumpy as sp\n",
    "import os\n",
    "import sys\n",
    "import matplotlib.pyplot as plt\n",
    "\n",
    "sys.path.insert(0, \"../tsmule\")\n",
    "from tsmule.sampling import MatrixProfileSegmentation, SAXSegmentation\n",
    "from tsmule.xai.lime import LimeTS\n",
    "\n",
    "# custom\n",
    "from model import LinearModel\n",
    "from dataset import Pipeline"
   ]
  },
  {
   "cell_type": "code",
   "execution_count": 2,
   "metadata": {},
   "outputs": [],
   "source": [
    "url = \"https://zenodo.org/record/4273921/files/STUMPY_Basics_steamgen.csv?download=1\"\n",
    "df = pd.read_csv(url)\n",
    "n = 256\n",
    "ts = df[\"steam flow\"][:n]\n",
    "ts2 = df[\"drum pressure\"][:n]\n",
    "mts = np.stack([ts, ts2], axis=1)"
   ]
  },
  {
   "cell_type": "code",
   "execution_count": 3,
   "metadata": {},
   "outputs": [],
   "source": [
    "lime_ts = LimeTS(n_samples=100)\n",
    "predict_fn = lambda x: x.ravel().sum()"
   ]
  },
  {
   "cell_type": "code",
   "execution_count": 4,
   "metadata": {},
   "outputs": [],
   "source": [
    "coef = lime_ts.explain(mts, predict_fn)"
   ]
  },
  {
   "cell_type": "code",
   "execution_count": 5,
   "metadata": {},
   "outputs": [
    {
     "output_type": "execute_result",
     "data": {
      "text/plain": [
       "array([[  370.22467946,   385.09747125],\n",
       "       [  272.26567996,   719.53618205],\n",
       "       [  115.19536201,    38.82669532],\n",
       "       [  176.27040047,    96.85317633],\n",
       "       [  637.23089205,  1044.06620437],\n",
       "       [  571.67352978, 16519.37359814],\n",
       "       [ 5278.92417116,  1470.61022595],\n",
       "       [  293.99730973,  8923.1995296 ],\n",
       "       [ 9499.4781947 , 15779.49109953],\n",
       "       [ 1333.98654299,  8696.05705713],\n",
       "       [ 2650.17120141,  4656.53334067]])"
      ]
     },
     "metadata": {},
     "execution_count": 5
    }
   ],
   "source": [
    "lime_ts.segment_coef"
   ]
  },
  {
   "cell_type": "code",
   "execution_count": null,
   "metadata": {},
   "outputs": [],
   "source": []
  }
 ]
}